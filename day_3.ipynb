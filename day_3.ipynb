{
 "cells": [
  {
   "cell_type": "markdown",
   "metadata": {},
   "source": [
    "### Transfer Learning\n",
    "Here, I'll be using a [dataset of cat and dog photos](https://www.kaggle.com/c/dogs-vs-cats) available on Kaggle."
   ]
  },
  {
   "cell_type": "code",
   "execution_count": 1,
   "metadata": {},
   "outputs": [],
   "source": [
    "# importing all the necessary modules\n",
    "import torch\n",
    "from torch import nn\n",
    "from torch import optim\n",
    "import torch.nn.functional as F\n",
    "from torchvision import datasets, transforms, models\n",
    "import numpy as np\n",
    "import matplotlib.pyplot as plt"
   ]
  },
  {
   "cell_type": "code",
   "execution_count": 2,
   "metadata": {},
   "outputs": [],
   "source": [
    "data_dir = './../data/dogs-vs-cats/'\n",
    "\n",
    "# defining transforms for the training data and testing data\n",
    "train_transforms = transforms.Compose([transforms.RandomRotation(30),\n",
    "                                       transforms.RandomResizedCrop(224),\n",
    "                                       transforms.RandomHorizontalFlip(),\n",
    "                                       transforms.ToTensor(),\n",
    "                                       transforms.Normalize([0.485, 0.456, 0.406],\n",
    "                                                            [0.229, 0.224, 0.225])])\n",
    "\n",
    "test_transforms = transforms.Compose([transforms.Resize(255),\n",
    "                                      transforms.CenterCrop(224),\n",
    "                                      transforms.ToTensor(),\n",
    "                                      transforms.Normalize([0.485, 0.456, 0.406],\n",
    "                                                           [0.229, 0.224, 0.225])])\n",
    "\n",
    "# defining the train data and test data with their transforms\n",
    "train_data = datasets.ImageFolder(data_dir + '/train', transform=train_transforms)\n",
    "test_data = datasets.ImageFolder(data_dir + '/test', transform=test_transforms)\n",
    "\n",
    "# defining the trainloader and testloader\n",
    "trainloader = torch.utils.data.DataLoader(train_data, batch_size=64, shuffle=True)\n",
    "testloader = torch.utils.data.DataLoader(test_data, batch_size=64)"
   ]
  },
  {
   "cell_type": "code",
   "execution_count": 3,
   "metadata": {},
   "outputs": [
    {
     "name": "stderr",
     "output_type": "stream",
     "text": [
      "C:\\Users\\96653\\Anaconda3\\lib\\site-packages\\torchvision\\models\\densenet.py:212: UserWarning: nn.init.kaiming_normal is now deprecated in favor of nn.init.kaiming_normal_.\n",
      "  nn.init.kaiming_normal(m.weight.data)\n"
     ]
    }
   ],
   "source": [
    "# to use GPU if it's available\n",
    "device = torch.device('cuda' if torch.cuda.is_available() else 'cpu') \n",
    "model = models.densenet121(pretrained=True)\n",
    "\n",
    "# freeze the parameters\n",
    "for param in model.parameters():\n",
    "    param.requires_grad = False\n",
    "\n",
    "# defining a model\n",
    "model.classifier = nn.Sequential(nn.Linear(1024, 256),\n",
    "                                 nn.ReLU(),\n",
    "                                 nn.Dropout(0.2),\n",
    "                                 nn.Linear(256, 2),\n",
    "                                 nn.LogSoftmax(dim=1))\n",
    "\n",
    "criterion = nn.NLLLoss()\n",
    "\n",
    "# defining an opotimizer\n",
    "optimizer = optim.Adam(model.classifier.parameters(), lr=0.003)\n",
    "\n",
    "# moving the model to work on GPU if available\n",
    "model.to(device);"
   ]
  },
  {
   "cell_type": "code",
   "execution_count": 5,
   "metadata": {},
   "outputs": [
    {
     "name": "stdout",
     "output_type": "stream",
     "text": [
      "Epoch 1/1.. Train loss: 0.16.. Test loss: 0.07.. Test accuracy: 0.97\n",
      "Epoch 1/1.. Train loss: 0.20.. Test loss: 0.05.. Test accuracy: 0.98\n",
      "Epoch 1/1.. Train loss: 0.15.. Test loss: 0.05.. Test accuracy: 0.98\n"
     ]
    }
   ],
   "source": [
    "epochs = 1\n",
    "steps = 0\n",
    "running_loss = 0\n",
    "print_every = 10\n",
    "\n",
    "for epoch in range(epochs):\n",
    "    # loop through the trainloader generator\n",
    "    for images, labels in trainloader:\n",
    "        #counting the steps \n",
    "        steps += 1\n",
    "        # move the images and labels to the GPU\n",
    "        images, labels = images.to(device), labels.to(device)\n",
    "        # zero the grad\n",
    "        optimizer.zero_grad()\n",
    "        \n",
    "        # train the model\n",
    "        logps = model.forward(images)\n",
    "        loss = criterion(logps, labels)\n",
    "        loss.backward()\n",
    "        optimizer.step()\n",
    "        \n",
    "        # acculmating the running loss\n",
    "        running_loss += loss.item()\n",
    "        \n",
    "        # if steps are 10, perform the test\n",
    "        if steps % print_every == 0:\n",
    "            test_loss = 0\n",
    "            accuracy = 0\n",
    "            # test mode\n",
    "            model.eval()\n",
    "            with torch.no_grad():\n",
    "                # loop through the estloader generator\n",
    "                for images, labels in testloader:\n",
    "                    # move the images and labels to the GPU\n",
    "                    images, labels = images.to(device), labels.to(device)\n",
    "                    # test the model\n",
    "                    logps = model.forward(images)\n",
    "                    loss = criterion(logps, labels)\n",
    "                    test_loss += loss.item()\n",
    "                    \n",
    "                    # calculate accuracy\n",
    "                    ps = torch.exp(logps)\n",
    "                    top_p, top_class = ps.topk(1, dim=1)\n",
    "                    equals = top_class == labels.view(*top_class.shape)\n",
    "                    accuracy += torch.mean(equals.type(torch.FloatTensor))\n",
    "                    \n",
    "            print(f'Epoch {epoch+1}/{epochs}.. '\n",
    "                  f'Train loss: {running_loss/print_every:.2f}.. '\n",
    "                  f'Test loss: {test_loss/len(testloader):.2f}.. '\n",
    "                  f'Test accuracy: {accuracy/len(testloader):.2f}')\n",
    "            running_loss = 0\n",
    "            model.train()"
   ]
  },
  {
   "cell_type": "code",
   "execution_count": null,
   "metadata": {},
   "outputs": [],
   "source": []
  }
 ],
 "metadata": {
  "kernelspec": {
   "display_name": "Python 3",
   "language": "python",
   "name": "python3"
  },
  "language_info": {
   "codemirror_mode": {
    "name": "ipython",
    "version": 3
   },
   "file_extension": ".py",
   "mimetype": "text/x-python",
   "name": "python",
   "nbconvert_exporter": "python",
   "pygments_lexer": "ipython3",
   "version": "3.7.1"
  }
 },
 "nbformat": 4,
 "nbformat_minor": 2
}
